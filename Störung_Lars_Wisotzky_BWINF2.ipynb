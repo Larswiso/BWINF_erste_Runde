{
  "nbformat": 4,
  "nbformat_minor": 0,
  "metadata": {
    "colab": {
      "provenance": [],
      "authorship_tag": "ABX9TyOpr1yyyx1/cwytjb3RakLt",
      "include_colab_link": true
    },
    "kernelspec": {
      "name": "python3",
      "display_name": "Python 3"
    },
    "language_info": {
      "name": "python"
    }
  },
  "cells": [
    {
      "cell_type": "markdown",
      "metadata": {
        "id": "view-in-github",
        "colab_type": "text"
      },
      "source": [
        "<a href=\"https://colab.research.google.com/github/Larswiso/BWINF_erste_Runde/blob/main/St%C3%B6rung_Lars_Wisotzky_BWINF2.ipynb\" target=\"_parent\"><img src=\"https://colab.research.google.com/assets/colab-badge.svg\" alt=\"Open In Colab\"/></a>"
      ]
    },
    {
      "cell_type": "code",
      "source": [
        "import urllib.request \n",
        "url = \"https://bwinf.de/fileadmin/bundeswettbewerb/41/Alice_im_Wunderland.txt\"\n",
        "dateiname = \"Alice_im_Wunderland.txt\"\n",
        "urllib.request.urlretrieve(url, dateiname)"
      ],
      "metadata": {
        "colab": {
          "base_uri": "https://localhost:8080/"
        },
        "id": "R8uXIkvXnwYj",
        "outputId": "995cd3d2-6af3-4ed0-9e7b-0d441b77b77a"
      },
      "execution_count": 19,
      "outputs": [
        {
          "output_type": "execute_result",
          "data": {
            "text/plain": [
              "('Alice_im_Wunderland.txt', <http.client.HTTPMessage at 0x7f4b369e3750>)"
            ]
          },
          "metadata": {},
          "execution_count": 19
        }
      ]
    },
    {
      "cell_type": "code",
      "source": [
        "text = \"Alice_im_Wunderland.txt\"  # Text aus Textdokument lesen\n",
        "text = \"Hallo, ich bin Lars\"       # wenn Textdokument benutzt wird, auskommentieren\n",
        "\n",
        "stoerung = \"stoerung1.txt\"        # Text aus Textdokument lesen\n",
        "stoerung = \"Hallo _ _\"            # wenn Textdokument benutzt wird, auskommentieren"
      ],
      "metadata": {
        "id": "Gzg1yJH6nsD2"
      },
      "execution_count": 22,
      "outputs": []
    },
    {
      "cell_type": "code",
      "execution_count": 23,
      "metadata": {
        "colab": {
          "base_uri": "https://localhost:8080/"
        },
        "id": "d_5Sysp9ngNp",
        "outputId": "57c4719f-3493-4bcb-f869-54222842f139"
      },
      "outputs": [
        {
          "output_type": "stream",
          "name": "stdout",
          "text": [
            "hallo ich bin \n"
          ]
        }
      ],
      "source": [
        "\n",
        "\n",
        "def filter_text(zeile):\n",
        "    # alle Zeilenumbrüche entfernen, die seperat sind\n",
        "    for i in range(len(zeile)):\n",
        "            if zeile[i] == '\\n':\n",
        "                zeile[i] = ' '\n",
        "\n",
        "    # alle Zeilenumbrüche entfernen, die mit string verbunden sind\n",
        "    text = \"\"\n",
        "    verbotene_zeichen = [\"?\", \"!\", \",\", \"»\", \"«\", \";\", \"*\",\".\", \"[\", \"]\", \"(\", \")\"]\n",
        "    for phrase in zeile:\n",
        "        phrase.strip()\n",
        "        for zeichen in verbotene_zeichen:\n",
        "            phrase = phrase.replace(zeichen, \"\")\n",
        "        text += phrase\n",
        "    return text\n",
        "\n",
        "def read_file(dateipfad):\n",
        "    # encoding=\"utf-8\", damit Umlaute richtig konvertiert werden\n",
        "    with open(dateipfad, 'r', encoding=\"utf-8\") as f:\n",
        "        zeile = f.readlines()\n",
        "        text = filter_text(zeile)\n",
        "        \n",
        "            \n",
        "        # lower, weil die textstellen kleingeschrieben werden\n",
        "        # split, damit jedes Wort einzeln ist\n",
        "        text = text.lower().split()\n",
        "        return text\n",
        "\n",
        "\n",
        "if text[-4:(len(text))] == \".txt\":\n",
        "    text = read_file(text)\n",
        "else:\n",
        "    text = filter_text(text)\n",
        "    text = text.lower().split()\n",
        "\n",
        "\n",
        "if stoerung[-4:(len(stoerung))] == \".txt\":\n",
        "    stoerung = read_file(stoerung)\n",
        "else:\n",
        "    stoerung = stoerung.lower().split()\n",
        "\n",
        "txtstelle_dict = {}\n",
        "# Nachdem Anfangswort wird im Text gesucht, ist also ein Schlüsselwort\n",
        "anfangswort = stoerung[0]\n",
        "# Anfangswort_index gibt an bei welchem Index das Anfangswort auftritt\n",
        "anfangswort_index = []\n",
        "\n",
        "for index, wort in enumerate(stoerung):\n",
        "    txtstelle_dict[index] = wort\n",
        "# print(txtstelle_dict)\n",
        "\n",
        "# sucht nachden Anfangswort im Text und speichert es in anfangswort_index\n",
        "for index, wort in enumerate(text):\n",
        "    if anfangswort == wort:\n",
        "        anfangswort_index.append(index)\n",
        "\n",
        "# filtert die Unterstriche raus \n",
        "stoerung_woerter = stoerung\n",
        "for x in range(stoerung_woerter.count(\"_\")):\n",
        "    stoerung_woerter.remove(\"_\")\n",
        "\n",
        "for index in range(len(anfangswort_index)):\n",
        "    # ende_index gibt an, wie viele Wörter im Text gesucht werdern sollen nachdem Schlüsselwort\n",
        "    ende_index = anfangswort_index[index] + len(txtstelle_dict)\n",
        "    # Der Zähler gibt\n",
        "    zaehler = 0\n",
        "    # Wörter die richig sein könnte\n",
        "    erwartete_woerter = []\n",
        "    # die komplete Wortgruppe ohne Störung\n",
        "    komplete_wortgruppe = \"\"\n",
        "\n",
        "    for item in text[anfangswort_index[index]:ende_index]:\n",
        "\n",
        "        if item == txtstelle_dict[zaehler]:\n",
        "            erwartete_woerter.append(item)\n",
        "        zaehler += 1\n",
        "\n",
        "        komplete_wortgruppe += (item + \" \")\n",
        "\n",
        "    if erwartete_woerter == stoerung_woerter:\n",
        "        print(komplete_wortgruppe)"
      ]
    }
  ]
}