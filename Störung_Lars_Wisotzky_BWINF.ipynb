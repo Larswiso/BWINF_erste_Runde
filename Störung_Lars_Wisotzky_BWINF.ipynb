{
  "nbformat": 4,
  "nbformat_minor": 0,
  "metadata": {
    "colab": {
      "provenance": [],
      "collapsed_sections": [],
      "authorship_tag": "ABX9TyPPL7ga3it434HfoMzVTP0Q",
      "include_colab_link": true
    },
    "kernelspec": {
      "name": "python3",
      "display_name": "Python 3"
    },
    "language_info": {
      "name": "python"
    }
  },
  "cells": [
    {
      "cell_type": "markdown",
      "metadata": {
        "id": "view-in-github",
        "colab_type": "text"
      },
      "source": [
        "<a href=\"https://colab.research.google.com/github/Larswiso/BWINF_erste_Runde/blob/main/St%C3%B6rung_Lars_Wisotzky_BWINF.ipynb\" target=\"_parent\"><img src=\"https://colab.research.google.com/assets/colab-badge.svg\" alt=\"Open In Colab\"/></a>"
      ]
    },
    {
      "cell_type": "markdown",
      "source": [
        "**Download** die Datei Alice_im_Wunderland.txt von BWINF 1.Runde"
      ],
      "metadata": {
        "id": "A6LII6v3ns7X"
      }
    },
    {
      "cell_type": "code",
      "source": [
        "import urllib.request \n",
        "url = \"https://bwinf.de/fileadmin/bundeswettbewerb/41/Alice_im_Wunderland.txt\"\n",
        "dateiname = \"Alice_im_Wunderland.txt\"\n",
        "urllib.request.urlretrieve(url, dateiname)"
      ],
      "metadata": {
        "colab": {
          "base_uri": "https://localhost:8080/"
        },
        "id": "nXQa1xpNm19h",
        "outputId": "05dac3e2-12dc-436d-c972-3bd617fa23e8"
      },
      "execution_count": null,
      "outputs": [
        {
          "output_type": "execute_result",
          "data": {
            "text/plain": [
              "('Alice_im_Wunderland.txt', <http.client.HTTPMessage at 0x7f80856cf710>)"
            ]
          },
          "metadata": {},
          "execution_count": 1
        }
      ]
    },
    {
      "cell_type": "code",
      "source": [
        "def read_file(dateipfad):\n",
        "    # encoding=\"utf-8\", damit Umlaute richtig konvertiert werden\n",
        "    with open(dateipfad, 'r', encoding=\"utf-8\") as f:\n",
        "        zeile = f.readlines()\n",
        "        # alle Zeilenumbrüche entfernen, die seperat sind\n",
        "        for i in range(len(zeile)):\n",
        "            if zeile[i] == '\\n':\n",
        "                zeile[i] = ' '\n",
        "\n",
        "        # alle Zeilenumbrüche entfernen, die mit string verbunden sind\n",
        "        text = \"\"\n",
        "        verbotene_zeichen = [\"?\", \"!\", \",\", \"»\", \"«\", \";\", \"*\",\".\", \"[\", \"]\", \"(\", \")\"]\n",
        "        for phrase in zeile:\n",
        "            phrase.strip()\n",
        "            for zeichen in verbotene_zeichen:\n",
        "                phrase = phrase.replace(zeichen, \"\")\n",
        "            text += phrase\n",
        "            \n",
        "        # lower, weil die textstellen kleingeschrieben werden\n",
        "        # split, damit jedes Wort einzeln ist\n",
        "        text = text.lower().split()\n",
        "        return text"
      ],
      "metadata": {
        "id": "-oRwnb8koxQ-"
      },
      "execution_count": null,
      "outputs": []
    },
    {
      "cell_type": "markdown",
      "source": [
        "Hier den **Text** und **Störung** festlegen: \n",
        "\n",
        "Format auswählen: *Textdokument* oder : *String*\n"
      ],
      "metadata": {
        "id": "AUR0fGEOo5SG"
      }
    },
    {
      "cell_type": "code",
      "source": [
        "text = read_file(\"Alice_im_Wunderland.txt\")\n",
        "# text = \"\"\n",
        " \n",
        "stoerung = \"fressen _ gern _\".split()"
      ],
      "metadata": {
        "id": "j8Cz_-qoo20w"
      },
      "execution_count": null,
      "outputs": []
    },
    {
      "cell_type": "code",
      "source": [
        "txtstelle_dict = {}\n",
        "# Nachdem Anfangswort wird im Text gesucht, ist also ein Schlüsselwort\n",
        "anfangswort = stoerung[0]\n",
        "# Anfangswort_index gibt an bei welchem Index das Anfangswort auftritt\n",
        "anfangswort_index = []\n",
        "\n",
        "for index, wort in enumerate(stoerung):\n",
        "    txtstelle_dict[index] = wort\n",
        "# print(txtstelle_dict)\n",
        "\n",
        "# sucht nachden Anfangswort im Text und speichert es in anfangswort_index\n",
        "for index, wort in enumerate(text):\n",
        "    if anfangswort == wort:\n",
        "        anfangswort_index.append(index)\n",
        "\n",
        "# filtert die Unterstriche raus \n",
        "stoerung_woerter = stoerung\n",
        "for x in range(stoerung_woerter.count(\"_\")):\n",
        "    stoerung_woerter.remove(\"_\")\n",
        "\n",
        "for index in range(len(anfangswort_index)):\n",
        "    # ende_index gibt an, wie viele Wörter im Text gesucht werdern sollen nachdem Schlüsselwort\n",
        "    ende_index = anfangswort_index[index] + len(txtstelle_dict)\n",
        "    # Der Zähler gibt\n",
        "    zaehler = 0\n",
        "    # Wörter die richig sein könnte\n",
        "    erwartete_woerter = []\n",
        "    # die komplete Wortgruppe ohne Störung\n",
        "    komplete_wortgruppe = \"\"\n",
        "\n",
        "    for item in text[anfangswort_index[index]:ende_index]:\n",
        "\n",
        "        if item == txtstelle_dict[zaehler]:\n",
        "            erwartete_woerter.append(item)\n",
        "        zaehler += 1\n",
        "\n",
        "        komplete_wortgruppe += (item + \" \")\n",
        "\n",
        "    if erwartete_woerter == stoerung_woerter:\n",
        "        print(f\"Die Textstelle: {komplete_wortgruppe}\")"
      ],
      "metadata": {
        "colab": {
          "base_uri": "https://localhost:8080/"
        },
        "id": "xXG89VlRmnEb",
        "outputId": "f739fc4e-2d19-494d-aecc-1cea2aa9584e"
      },
      "execution_count": null,
      "outputs": [
        {
          "output_type": "stream",
          "name": "stdout",
          "text": [
            "Die Textstelle: fressen katzen gern spatzen \n",
            "Die Textstelle: fressen katzen gern spatzen \n",
            "Die Textstelle: fressen spatzen gern katzen \n"
          ]
        }
      ]
    }
  ]
}